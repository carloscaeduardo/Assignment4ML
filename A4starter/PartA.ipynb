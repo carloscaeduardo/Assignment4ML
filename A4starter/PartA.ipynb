{
 "cells": [
  {
   "cell_type": "code",
   "execution_count": 1,
   "metadata": {},
   "outputs": [],
   "source": [
    "import datetime\n",
    "import matplotlib\n",
    "import pandas as pd"
   ]
  },
  {
   "cell_type": "code",
   "execution_count": 6,
   "metadata": {},
   "outputs": [],
   "source": [
    "\n",
    "\n",
    "\n",
    "def convertToCelsius(fahrenheit):\n",
    "    '''Converts temperature from Fahrenheit to Celsius.'''\n",
    "    celsius = (fahrenheit - 32.0) * (5/9)\n",
    "    return celsius\n",
    "\n",
    "\n",
    "def consolidateData(cities, startDate, endDate, outputFileName):\n",
    "    '''\n",
    "    Creates a single file containing the average daily temperatures, in Celsius,\n",
    "    for each city for each date in the date range. The output should be as shown below:\n",
    "    City, Date, Temperature\n",
    "    alphabetically, earliest, temperature\n",
    "    '''\n",
    "    # read the files using city_info as base.\n",
    "    # First, read city_info.csv\n",
    "    # fileList = FileUtils.readIntoList(\"city_info.csv\")\n",
    "    # print(fileList)\n",
    "\n",
    "\n",
    "\n",
    "\n",
    "cities = [\"Atlanta\", \"Fargo\", \"Eugene\", \"Jacksonville\"]\n",
    "startDate = \"2015-01-01\"\n",
    "endDate = \"2018-01-01\"\n",
    "outPutFileName = \"test1.csv\"\n",
    "\n",
    "\n",
    "city_info = pd.read_csv('sourcedata/city_info.csv')\n"
   ]
  },
  {
   "cell_type": "code",
   "execution_count": 8,
   "metadata": {},
   "outputs": [],
   "source": [
    "result_df = city_info[city_info['Name'].isin(cities)]\n"
   ]
  },
  {
   "cell_type": "code",
   "execution_count": null,
   "metadata": {},
   "outputs": [],
   "source": []
  }
 ],
 "metadata": {
  "kernelspec": {
   "display_name": "base",
   "language": "python",
   "name": "python3"
  },
  "language_info": {
   "codemirror_mode": {
    "name": "ipython",
    "version": 3
   },
   "file_extension": ".py",
   "mimetype": "text/x-python",
   "name": "python",
   "nbconvert_exporter": "python",
   "pygments_lexer": "ipython3",
   "version": "3.9.13"
  },
  "orig_nbformat": 4
 },
 "nbformat": 4,
 "nbformat_minor": 2
}
