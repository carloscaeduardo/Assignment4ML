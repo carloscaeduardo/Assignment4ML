{
 "cells": [
  {
   "cell_type": "code",
   "execution_count": null,
   "metadata": {},
   "outputs": [],
   "source": [
    "import PartC as pc\n"
   ]
  },
  {
   "cell_type": "code",
   "execution_count": null,
   "metadata": {},
   "outputs": [],
   "source": [
    "cities = [\"Atlanta\", \"Eugene\", \"Fargo\", \"Jacksonville\", 'Phoenix']\n",
    "startDate = \"1998-01-01\"\n",
    "endDate = \"2018-01-01\"\n",
    "years =['1998','1999','2000','2001','2002', '2003','2004', '2005','2006','2007']\n"
   ]
  },
  {
   "cell_type": "code",
   "execution_count": null,
   "metadata": {},
   "outputs": [],
   "source": [
    "month = \"01\"\n",
    "day = \"02\"\n",
    "\n",
    "pc.singleDayPerCityWithTrendline(cities, years, month, day)"
   ]
  }
 ],
 "metadata": {
  "language_info": {
   "name": "python"
  },
  "orig_nbformat": 4
 },
 "nbformat": 4,
 "nbformat_minor": 2
}
